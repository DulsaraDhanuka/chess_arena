{
 "cells": [
  {
   "cell_type": "code",
   "execution_count": 2,
   "id": "751898a8-3e41-4ce5-a55e-01fcb870a3b5",
   "metadata": {},
   "outputs": [],
   "source": [
    "import chess\n",
    "import chess.pgn\n",
    "pgn = open(\"data/Carlsen.pgn\")"
   ]
  },
  {
   "cell_type": "code",
   "execution_count": 13,
   "id": "b58bfb4d-81e2-450c-ba64-375ee699a13c",
   "metadata": {},
   "outputs": [],
   "source": [
    "first_game = chess.pgn.read_game(pgn)"
   ]
  },
  {
   "cell_type": "code",
   "execution_count": 14,
   "id": "6667f83c-8fff-4191-b7e7-a6149f033ca9",
   "metadata": {},
   "outputs": [
    {
     "data": {
      "text/plain": [
       "Headers(Event='Troll Masters', Site='Gausdal NOR', Date='2001.01.06', Round='2', White='Carlsen,Magnus', Black='Brameld,A', Result='0-1', WhiteElo='', BlackElo='2095', ECO='B05')"
      ]
     },
     "execution_count": 14,
     "metadata": {},
     "output_type": "execute_result"
    }
   ],
   "source": [
    "first_game.headers"
   ]
  },
  {
   "cell_type": "code",
   "execution_count": null,
   "id": "72c1e471-7292-4f71-9f24-d13b4a787d0b",
   "metadata": {},
   "outputs": [],
   "source": [
    "games = []\n",
    "game = []\n",
    "for move in first_game.mainline_moves():\n",
    "    game.append(move.uci())\n",
    "games.append(game)\n",
    "games"
   ]
  },
  {
   "cell_type": "code",
   "execution_count": 20,
   "id": "216126a0-5f08-4eaf-b427-41f92456ccc9",
   "metadata": {},
   "outputs": [
    {
     "data": {
      "text/plain": [
       "'e2e4'"
      ]
     },
     "execution_count": 20,
     "metadata": {},
     "output_type": "execute_result"
    }
   ],
   "source": [
    "games[0][0]"
   ]
  },
  {
   "cell_type": "code",
   "execution_count": 27,
   "id": "93abdac0-de1a-4f2c-bff3-832bd3005bb5",
   "metadata": {},
   "outputs": [],
   "source": [
    "file_map = {'a': 0, 'b': 1, 'c': 2, 'd': 3, 'e': 4, 'f': 5, 'g': 6, 'h': 7}\n",
    "rank_map = {'1': 0, '2': 1, '3': 2, '4': 3, '5': 4, '6': 5, '7': 6, '8': 7}\n",
    "move = list(games[0][0])\n",
    "move = file_map[move[0]]*1000+rank_map[move[1]]*100+file_map[move[2]]*10+rank_map[move[3]]*1"
   ]
  },
  {
   "cell_type": "code",
   "execution_count": 36,
   "id": "50d9d9f0-1c14-4760-a914-59abf0ae1062",
   "metadata": {},
   "outputs": [
    {
     "data": {
      "text/plain": [
       "4143"
      ]
     },
     "execution_count": 36,
     "metadata": {},
     "output_type": "execute_result"
    }
   ],
   "source": [
    "move"
   ]
  },
  {
   "cell_type": "code",
   "execution_count": 40,
   "id": "929cc641-5124-421c-a9c0-4565d39c4ac8",
   "metadata": {},
   "outputs": [
    {
     "data": {
      "text/plain": [
       "(4, 1, 4, 3)"
      ]
     },
     "execution_count": 40,
     "metadata": {},
     "output_type": "execute_result"
    }
   ],
   "source": [
    "move // 1000 % 10, move // 100 % 10, move // 10 % 10, move % 10"
   ]
  },
  {
   "cell_type": "code",
   "execution_count": 37,
   "id": "c4bbd733-9edc-47e7-be8e-b161d760b275",
   "metadata": {},
   "outputs": [
    {
     "data": {
      "text/plain": [
       "[3, 4, 1, 4]"
      ]
     },
     "execution_count": 37,
     "metadata": {},
     "output_type": "execute_result"
    }
   ],
   "source": [
    "def get_pos_nums(num):\n",
    "    pos_nums = []\n",
    "    while num != 0:\n",
    "        pos_nums.append(num % 10)\n",
    "        num = num // 10\n",
    "    return pos_nums\n",
    "\n",
    "get_pos_nums(move)"
   ]
  },
  {
   "cell_type": "code",
   "execution_count": 98,
   "id": "a7ae67d5-49e3-49d6-987a-a5b05d863d77",
   "metadata": {},
   "outputs": [],
   "source": [
    "import numpy as np\n",
    "\n",
    "class Encoding():\n",
    "    def __init__(self) -> None:\n",
    "        self.n_vocab = 4098 # 4096 + 2\n",
    "        self.itof = {0: 'a', 1: 'b', 2: 'c', 3: 'd', 4: 'e', 5: 'f', 6: 'g', 7: 'h'}\n",
    "        self.itor = {0: '1', 1: '2', 2: '3', 3: '4', 4: '5', 5: '6', 6: '7', 7: '8'}\n",
    "        self.vocab = {0: '<s>', '<s>': 0, 1: '</s>', '</s>': 1}\n",
    "        index = 2\n",
    "        for i in range(8):\n",
    "            for j in range(8):\n",
    "                for k in range(8):\n",
    "                    for l in range(8):\n",
    "                        uci = self.itof[i] + self.itor[j] + self.itof[k] + self.itor[l]\n",
    "                        self.vocab[index] = uci\n",
    "                        self.vocab[uci] = index\n",
    "                        index += 1\n",
    "        for i in range(8):\n",
    "            for piece in [\"b\", \"n\", \"r\", \"q\"]:\n",
    "                if i != 0:\n",
    "                    uci = f\"{self.itof[i]}7{self.itof[i-1]}8{piece}\"\n",
    "                    self.vocab[index] = uci\n",
    "                    self.vocab[uci] = index\n",
    "                    index += 1\n",
    "                if i != 7:\n",
    "                    uci = f\"{self.itof[i]}7{self.itof[i+1]}8{piece}\"\n",
    "                    self.vocab[index] = uci\n",
    "                    self.vocab[uci] = index\n",
    "                    index += 1\n",
    "                uci = f\"{self.itof[i]}7{self.itof[i]}8{piece}\"\n",
    "                self.vocab[index] = uci\n",
    "                self.vocab[uci] = index\n",
    "                index += 1\n",
    "\n",
    "                if i != 0:\n",
    "                    uci = f\"{self.itof[i]}2{self.itof[i-1]}1{piece}\"\n",
    "                    self.vocab[index] = uci\n",
    "                    self.vocab[uci] = index\n",
    "                    index += 1\n",
    "                if i != 7:\n",
    "                    uci = f\"{self.itof[i]}2{self.itof[i+1]}1{piece}\"\n",
    "                    self.vocab[index] = uci\n",
    "                    self.vocab[uci] = index\n",
    "                    index += 1\n",
    "                uci = f\"{self.itof[i]}2{self.itof[i]}2{piece}\"\n",
    "                self.vocab[index] = uci\n",
    "                self.vocab[uci] = index\n",
    "                index += 1\n",
    "        print(index)\n",
    "    \n",
    "    def encode(self, move: str): return self.vocab[move]\n",
    "    def decode(self, move: int): return self.vocab[move]\n"
   ]
  },
  {
   "cell_type": "code",
   "execution_count": null,
   "id": "1e0b1283-5a36-4eaa-97d5-ca83ec604b26",
   "metadata": {},
   "outputs": [],
   "source": []
  },
  {
   "cell_type": "code",
   "execution_count": 123,
   "id": "79dcc996-43eb-4fa1-93d5-5e3e0aa39e75",
   "metadata": {},
   "outputs": [],
   "source": [
    "itof = {0: 'a', 1: 'b', 2: 'c', 3: 'd', 4: 'e', 5: 'f', 6: 'g', 7: 'h'}\n",
    "itor = {0: '1', 1: '2', 2: '3', 3: '4', 4: '5', 5: '6', 6: '7', 7: '8'}\n",
    "vocab = {0: '<s>', '<s>': 0, 1: '</s>', '</s>': 1}\n",
    "index = 2\n",
    "for i in range(8):\n",
    "    for j in range(8):\n",
    "        for k in range(8):\n",
    "            for l in range(8):\n",
    "                uci = itof[i] + itor[j] + itof[k] + itor[l]\n",
    "                vocab[index] = uci\n",
    "                vocab[uci] = index\n",
    "                index += 1\n",
    "\n",
    "for i in range(8):\n",
    "    for piece in ['b', 'n', 'q', 'r']:\n",
    "        if i != 0:\n",
    "            uci = itof[i] + '2' + itof[i-1] + '1' + piece\n",
    "            vocab[index] = uci\n",
    "            vocab[uci] = index\n",
    "            index += 1\n",
    "        if i != 7:\n",
    "            uci = itof[i] + '2' + itof[i+1] + '1' + piece\n",
    "            vocab[index] = uci\n",
    "            vocab[uci] = index\n",
    "            index += 1\n",
    "        uci = itof[i] + '2' + itof[i] + '1' + piece\n",
    "        vocab[index] = uci\n",
    "        vocab[uci] = index\n",
    "        index += 1\n",
    "\n",
    "for i in range(8):\n",
    "    for piece in ['b', 'n', 'q', 'r']:\n",
    "        if i != 0:\n",
    "            uci = itof[i] + '7' + itof[i-1] + '8' + piece\n",
    "            vocab[index] = uci\n",
    "            vocab[uci] = index\n",
    "            index += 1\n",
    "        if i != 7:\n",
    "            uci = itof[i] + '7' + itof[i+1] + '8' + piece\n",
    "            vocab[index] = uci\n",
    "            vocab[uci] = index\n",
    "            index += 1\n",
    "        uci = itof[i] + '7' + itof[i] + '8' + piece\n",
    "        vocab[index] = uci\n",
    "        vocab[uci] = index\n",
    "        index += 1\n",
    "import pickle\n",
    "with open(\"vocab.pickle\", \"wb\") as f:\n",
    "    pickle.dump(vocab, f)"
   ]
  },
  {
   "cell_type": "code",
   "execution_count": 127,
   "id": "4dbdc43f-c765-4255-bee6-ea81f606ab74",
   "metadata": {},
   "outputs": [
    {
     "data": {
      "text/plain": [
       "4274"
      ]
     },
     "execution_count": 127,
     "metadata": {},
     "output_type": "execute_result"
    }
   ],
   "source": [
    "len(vocab.items()) // 2"
   ]
  },
  {
   "cell_type": "code",
   "execution_count": 128,
   "id": "72da5cf4-cb59-4bb9-a4e0-e552e2e2f95e",
   "metadata": {},
   "outputs": [],
   "source": [
    "import pickle\n",
    "\n",
    "vocab = None\n",
    "with open('vocab.pickle', \"rb\") as f:\n",
    "    vocab = pickle.load(f)\n",
    "n_vocab = len(vocab.items()) // 2\n",
    "\n",
    "class Encoding():\n",
    "    def __init__(self) -> None:\n",
    "        self.n_vocab = n_vocab\n",
    "    def encode(self, move: str): return vocab[move]\n",
    "    def decode(self, move: int): return vocab[move]\n"
   ]
  },
  {
   "cell_type": "code",
   "execution_count": 129,
   "id": "10e9104c-8520-491d-a8ca-dcbb26cf11aa",
   "metadata": {},
   "outputs": [
    {
     "data": {
      "text/plain": [
       "523622"
      ]
     },
     "execution_count": 129,
     "metadata": {},
     "output_type": "execute_result"
    }
   ],
   "source": [
    "#enc = Encoding()\n",
    "tokens = []\n",
    "x = []\n",
    "with open('data/Carlsen.pgn') as pgn:\n",
    "    while game := chess.pgn.read_game(pgn):\n",
    "        #tokens.append(enc.encode(\"<s>\"))\n",
    "        for move in game.mainline_moves():\n",
    "            x.append(move.uci())\n",
    "            tokens.append(vocab[move.uci()])\n",
    "        #tokens.append(enc.encode(\"</s>\"))\n",
    "len(tokens)\n",
    "#n_vocab = enc.n_vocab"
   ]
  },
  {
   "cell_type": "code",
   "execution_count": 130,
   "id": "d0d2d06f-a4b8-48ac-b219-a42dca724718",
   "metadata": {},
   "outputs": [
    {
     "data": {
      "text/plain": [
       "True"
      ]
     },
     "execution_count": 130,
     "metadata": {},
     "output_type": "execute_result"
    }
   ],
   "source": [
    "x == [vocab[tok] for tok in tokens]"
   ]
  },
  {
   "cell_type": "code",
   "execution_count": 85,
   "id": "c9b9894e-3eac-41fa-a40f-70bf71c5d5bc",
   "metadata": {},
   "outputs": [
    {
     "data": {
      "text/plain": [
       "2"
      ]
     },
     "execution_count": 85,
     "metadata": {},
     "output_type": "execute_result"
    }
   ],
   "source": [
    "enc.encode('a1a0')"
   ]
  },
  {
   "cell_type": "code",
   "execution_count": 93,
   "id": "6b5b7f68-5441-4a7d-a1f9-ce48a49b74eb",
   "metadata": {},
   "outputs": [
    {
     "name": "stdout",
     "output_type": "stream",
     "text": [
      "d7d8r\n",
      "a2a1b\n",
      "e7d8r\n",
      "e7e8b\n",
      "e2f1n\n",
      "d2d1n\n",
      "h2h1n\n",
      "c7c8n\n",
      "e7e8r\n",
      "b2b1b\n",
      "d2c1r\n",
      "g7f8r\n",
      "c2c1n\n",
      "c7c8n\n",
      "f2f1r\n",
      "g2g1r\n"
     ]
    }
   ],
   "source": [
    "for m in x:\n",
    "    if len(m) > 4 and list(m)[-1] != \"q\":\n",
    "        print(m)"
   ]
  },
  {
   "cell_type": "code",
   "execution_count": 137,
   "id": "fd063073-cd34-415b-ba6a-baccf675157d",
   "metadata": {},
   "outputs": [
    {
     "data": {
      "text/plain": [
       "['Carlsen.pgn']"
      ]
     },
     "execution_count": 137,
     "metadata": {},
     "output_type": "execute_result"
    }
   ],
   "source": [
    "import os\n",
    "[f for f in os.listdir('data') if os.path.isfile(os.path.join('data', f)) and os.path.splitext(f)[1] == \".pgn\"]"
   ]
  }
 ],
 "metadata": {
  "kernelspec": {
   "display_name": "Python 3 (ipykernel)",
   "language": "python",
   "name": "python3"
  },
  "language_info": {
   "codemirror_mode": {
    "name": "ipython",
    "version": 3
   },
   "file_extension": ".py",
   "mimetype": "text/x-python",
   "name": "python",
   "nbconvert_exporter": "python",
   "pygments_lexer": "ipython3",
   "version": "3.10.11"
  }
 },
 "nbformat": 4,
 "nbformat_minor": 5
}
